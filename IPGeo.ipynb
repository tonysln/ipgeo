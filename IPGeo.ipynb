{
 "cells": [
  {
   "cell_type": "markdown",
   "metadata": {},
   "source": [
    "## Random IP Geolocation Visualizer"
   ]
  },
  {
   "cell_type": "code",
   "execution_count": null,
   "metadata": {},
   "outputs": [],
   "source": [
    "import requests\n",
    "import math\n",
    "from ipwhois import IPWhois\n",
    "from random import randint\n",
    "from datetime import datetime\n",
    "from ipyleaflet import Map, Marker\n",
    "from IPython.display import Image\n",
    "\n",
    "headers = {\n",
    "    'accept': 'application/json',\n",
    "    'content-type': 'application/json'\n",
    "}\n",
    "\n",
    "NASA_KEY = ''"
   ]
  },
  {
   "cell_type": "markdown",
   "metadata": {},
   "source": [
    "Random IP generator - returns a string in the form of `xxx.xxx.xxx.xxx`, where `xxx` is an integer in range [0, 255]."
   ]
  },
  {
   "cell_type": "code",
   "execution_count": null,
   "metadata": {},
   "outputs": [],
   "source": [
    "def random_IP():\n",
    "    return '.'.join([str(randint(0,255)) for i in range(4)])"
   ]
  },
  {
   "cell_type": "markdown",
   "metadata": {},
   "source": [
    "Generate a random IP address and ask [freegeoip.app](https://freegeoip.app/) for its Geolocation and other information. _Limited to 15k queries per hour._"
   ]
  },
  {
   "cell_type": "code",
   "execution_count": null,
   "metadata": {
    "scrolled": true
   },
   "outputs": [],
   "source": [
    "IP = random_IP()\n",
    "\n",
    "url = 'https://freegeoip.app/json/' + IP\n",
    "response = requests.request('GET', url, headers=headers)\n",
    "lat = response.json()['latitude']\n",
    "lon = response.json()['longitude']\n",
    "\n",
    "print(IP, response.json()['country_name'], response.json()['region_name'], response.json()['city'], lat, lon, sep=', ')"
   ]
  },
  {
   "cell_type": "markdown",
   "metadata": {},
   "source": [
    "Display the location (by latitude and longitude) on a map."
   ]
  },
  {
   "cell_type": "code",
   "execution_count": null,
   "metadata": {
    "scrolled": false
   },
   "outputs": [],
   "source": [
    "%matplotlib inline\n",
    "\n",
    "center = float(response.json()['latitude']), float(response.json()['longitude'])\n",
    "m = Map(center=center, zoom=15)\n",
    "m.add_layer(Marker(location=center, draggable=False));\n",
    "\n",
    "display(m)"
   ]
  },
  {
   "cell_type": "markdown",
   "metadata": {},
   "source": [
    "## Weather Data\n",
    "_Using coordinates from the randomly generated IP._\n",
    "\n",
    "Simple 7-day forecast, including weather conditions and max/min temperatures."
   ]
  },
  {
   "cell_type": "code",
   "execution_count": null,
   "metadata": {},
   "outputs": [],
   "source": [
    "mode = 'civillight'\n",
    "meteo_url = f'http://www.7timer.info/bin/api.pl?lon={lon}&lat={lat}&product={mode}&output=json'\n",
    "meteo_response = requests.request('GET', meteo_url, headers=headers)"
   ]
  },
  {
   "cell_type": "code",
   "execution_count": null,
   "metadata": {},
   "outputs": [],
   "source": [
    "print('\\nDate         Max    Min    Condition\\n-----------------------------------')\n",
    "for day in meteo_response.json()['dataseries']:\n",
    "    temp_range = str(day['temp2m']['max']).rjust(2, ' ') + \"°C   \" + str(day['temp2m']['min']).rjust(2, ' ') + \"°C\"\n",
    "    date_stamp = str(day['date'])[6:] + '.' + str(day['date'])[4:6] + '.' + str(day['date'])[:4]\n",
    "    print(date_stamp, ' ', temp_range, ' ', day['weather'])"
   ]
  },
  {
   "cell_type": "markdown",
   "metadata": {},
   "source": [
    "### WHOIS Information\n",
    "\n",
    "Gather information about the randomly generated IP using a WHOIS lookup."
   ]
  },
  {
   "cell_type": "code",
   "execution_count": null,
   "metadata": {},
   "outputs": [],
   "source": [
    "lookup = IPWhois(IP)\n",
    "results = lookup.lookup_whois()\n",
    "for u, v in results['nets'][0].items():\n",
    "    print(u + ':', v)"
   ]
  },
  {
   "cell_type": "markdown",
   "metadata": {},
   "source": [
    "### Landsat Imagery\n",
    "\n",
    "Get a Landsat 8 image for the closest available date and location. Using NASA's Earth [API](https://api.nasa.gov/).\n",
    "\n",
    "_More about [Landsat 8](https://earthobservatory.nasa.gov/features/LandsatBigData)._"
   ]
  },
  {
   "cell_type": "code",
   "execution_count": null,
   "metadata": {},
   "outputs": [],
   "source": [
    "today = datetime.today().strftime('%Y-%m-%d')\n",
    "landsat_url = f'https://api.nasa.gov/planetary/earth/imagery?lon={lon}&lat={lat}&date={today}&api_key={NASA_KEY}'\n",
    "landsat_response = requests.request('GET', landsat_url, headers=headers)"
   ]
  },
  {
   "cell_type": "code",
   "execution_count": null,
   "metadata": {},
   "outputs": [],
   "source": [
    "Image(data=landsat_response.content, width=400)"
   ]
  },
  {
   "cell_type": "code",
   "execution_count": null,
   "metadata": {},
   "outputs": [],
   "source": []
  }
 ],
 "metadata": {
  "kernelspec": {
   "display_name": "Python 3.8.0 64-bit",
   "language": "python",
   "name": "python38064bit1a857726b65f4de9b8cf856978d12b7a"
  },
  "language_info": {
   "codemirror_mode": {
    "name": "ipython",
    "version": 3
   },
   "file_extension": ".py",
   "mimetype": "text/x-python",
   "name": "python",
   "nbconvert_exporter": "python",
   "pygments_lexer": "ipython3",
   "version": "3.8.0"
  }
 },
 "nbformat": 4,
 "nbformat_minor": 4
}
