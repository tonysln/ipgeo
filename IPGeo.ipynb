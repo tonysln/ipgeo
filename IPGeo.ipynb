{
 "cells": [
  {
   "cell_type": "markdown",
   "metadata": {},
   "source": [
    "## Random IP Geolocation Visualizer"
   ]
  },
  {
   "cell_type": "code",
   "execution_count": 1,
   "metadata": {},
   "outputs": [],
   "source": [
    "import requests\n",
    "import math\n",
    "from ipwhois import IPWhois\n",
    "from random import randint\n",
    "from datetime import datetime\n",
    "from ipyleaflet import Map, Marker\n",
    "from IPython.display import Image\n",
    "\n",
    "headers = {\n",
    "    'accept': 'application/json',\n",
    "    'content-type': 'application/json'\n",
    "}\n",
    "\n",
    "NASA_KEY = ''"
   ]
  },
  {
   "cell_type": "markdown",
   "metadata": {},
   "source": [
    "Random IP generator - returns a string in the form of `xxx.xxx.xxx.xxx`, where `xxx` is an integer in range [0, 255]."
   ]
  },
  {
   "cell_type": "code",
   "execution_count": 2,
   "metadata": {},
   "outputs": [],
   "source": [
    "def random_IP():\n",
    "    return '.'.join([str(randint(0,255)) for i in range(4)])"
   ]
  },
  {
   "cell_type": "markdown",
   "metadata": {},
   "source": [
    "Generate a random IP address and ask [freegeoip.app](https://freegeoip.app/) for its Geolocation and other information. _Limited to 15k queries per hour._"
   ]
  },
  {
   "cell_type": "code",
   "execution_count": 22,
   "metadata": {
    "scrolled": true
   },
   "outputs": [
    {
     "name": "stdout",
     "output_type": "stream",
     "text": [
      "115.28.241.174, China, Shandong, Qingdao, 36.066, 120.3694\n"
     ]
    }
   ],
   "source": [
    "IP = random_IP()\n",
    "\n",
    "url = 'https://freegeoip.app/json/' + IP\n",
    "response = requests.request('GET', url, headers=headers)\n",
    "lat = response.json()['latitude']\n",
    "lon = response.json()['longitude']\n",
    "\n",
    "print(IP, response.json()['country_name'], response.json()['region_name'], response.json()['city'], lat, lon, sep=', ')"
   ]
  },
  {
   "cell_type": "markdown",
   "metadata": {},
   "source": [
    "Display the location (by latitude and longitude) on a map."
   ]
  },
  {
   "cell_type": "code",
   "execution_count": 23,
   "metadata": {
    "scrolled": false
   },
   "outputs": [
    {
     "data": {
      "application/vnd.jupyter.widget-view+json": {
       "model_id": "423d65a959a3446ea0eb4cc26a1e24f8",
       "version_major": 2,
       "version_minor": 0
      },
      "text/plain": [
       "Map(center=[36.066, 120.3694], controls=(ZoomControl(options=['position', 'zoom_in_text', 'zoom_in_title', 'zo…"
      ]
     },
     "metadata": {},
     "output_type": "display_data"
    }
   ],
   "source": [
    "%matplotlib inline\n",
    "\n",
    "center = float(response.json()['latitude']), float(response.json()['longitude'])\n",
    "m = Map(center=center, zoom=15)\n",
    "m.add_layer(Marker(location=center, draggable=False));\n",
    "\n",
    "display(m)"
   ]
  },
  {
   "cell_type": "markdown",
   "metadata": {},
   "source": [
    "## Weather Data\n",
    "_Using coordinates from the randomly generated IP._\n",
    "\n",
    "Simple 7-day forecast, including weather conditions and max/min temperatures."
   ]
  },
  {
   "cell_type": "code",
   "execution_count": 24,
   "metadata": {},
   "outputs": [],
   "source": [
    "mode = 'civillight'\n",
    "meteo_url = f'http://www.7timer.info/bin/api.pl?lon={lon}&lat={lat}&product={mode}&output=json'\n",
    "meteo_response = requests.request('GET', meteo_url, headers=headers)"
   ]
  },
  {
   "cell_type": "code",
   "execution_count": 25,
   "metadata": {},
   "outputs": [
    {
     "name": "stdout",
     "output_type": "stream",
     "text": [
      "\n",
      "Date         Max    Min    Condition\n",
      "-----------------------------------\n",
      "24.05.2020   22°C   18°C   cloudy\n",
      "25.05.2020   25°C   17°C   cloudy\n",
      "26.05.2020   25°C   17°C   ishower\n",
      "27.05.2020   23°C   15°C   pcloudy\n",
      "28.05.2020   28°C   16°C   pcloudy\n",
      "29.05.2020   26°C   17°C   cloudy\n",
      "30.05.2020   21°C   16°C   ishower\n"
     ]
    }
   ],
   "source": [
    "print('\\nDate         Max    Min    Condition\\n-----------------------------------')\n",
    "for day in meteo_response.json()['dataseries']:\n",
    "    temp_range = str(day['temp2m']['max']).rjust(2, ' ') + \"°C   \" + str(day['temp2m']['min']).rjust(2, ' ') + \"°C\"\n",
    "    date_stamp = str(day['date'])[6:] + '.' + str(day['date'])[4:6] + '.' + str(day['date'])[:4]\n",
    "    print(date_stamp, ' ', temp_range, ' ', day['weather'])"
   ]
  },
  {
   "cell_type": "markdown",
   "metadata": {},
   "source": [
    "### WHOIS Information\n",
    "\n",
    "Gather information about the randomly generated IP using a WHOIS lookup."
   ]
  },
  {
   "cell_type": "code",
   "execution_count": 26,
   "metadata": {},
   "outputs": [
    {
     "name": "stdout",
     "output_type": "stream",
     "text": [
      "cidr: 115.28.0.0/15\n",
      "name: ALISOFT\n",
      "handle: ZM1015-AP\n",
      "range: 115.28.0.0 - 115.29.255.255\n",
      "description: Aliyun Computing Co., LTD\n",
      "5F, Builing D, the West Lake International Plaza of S&T\n",
      "No.391 Wen'er Road, Hangzhou, Zhejiang, China, 310099\n",
      "country: CN\n",
      "state: None\n",
      "city: None\n",
      "address: Beijing, China\n",
      "postal_code: None\n",
      "emails: ['ipas@cnnic.cn', 'jiali.jl@alibaba-inc.com', 'anti-spam@list.alibaba-inc.com', 'cloud-cc-sqcloud@list.alibaba-inc.com', 'guowei.pangw@alibaba-inc.com']\n",
      "created: None\n",
      "updated: None\n"
     ]
    }
   ],
   "source": [
    "lookup = IPWhois(IP)\n",
    "results = lookup.lookup_whois()\n",
    "for u, v in results['nets'][0].items():\n",
    "    print(u + ':', v)"
   ]
  },
  {
   "cell_type": "markdown",
   "metadata": {},
   "source": [
    "### Landsat Imagery\n",
    "\n",
    "Get a Landsat 8 image for the closest available date and location. Using NASA's Earth [API](https://api.nasa.gov/).\n",
    "\n",
    "_More about [Landsat 8](https://earthobservatory.nasa.gov/features/LandsatBigData)._"
   ]
  },
  {
   "cell_type": "code",
   "execution_count": null,
   "metadata": {},
   "outputs": [],
   "source": [
    "today = datetime.today().strftime('%Y-%m-%d')\n",
    "landsat_url = f'https://api.nasa.gov/planetary/earth/imagery?lon={lon}&lat={lat}&date={today}&api_key={NASA_KEY}'\n",
    "landsat_response = requests.request('GET', landsat_url, headers=headers)"
   ]
  },
  {
   "cell_type": "code",
   "execution_count": null,
   "metadata": {},
   "outputs": [],
   "source": [
    "Image(data=landsat_response.content, width=400)"
   ]
  },
  {
   "cell_type": "code",
   "execution_count": null,
   "metadata": {},
   "outputs": [],
   "source": []
  }
 ],
 "metadata": {
  "kernelspec": {
   "display_name": "Python 3.8.0 64-bit",
   "language": "python",
   "name": "python38064bit1a857726b65f4de9b8cf856978d12b7a"
  },
  "language_info": {
   "codemirror_mode": {
    "name": "ipython",
    "version": 3
   },
   "file_extension": ".py",
   "mimetype": "text/x-python",
   "name": "python",
   "nbconvert_exporter": "python",
   "pygments_lexer": "ipython3",
   "version": "3.8.0"
  }
 },
 "nbformat": 4,
 "nbformat_minor": 4
}
